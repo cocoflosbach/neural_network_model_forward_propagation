{
 "cells": [
  {
   "cell_type": "markdown",
   "id": "6c9162b0-e1bf-4356-8082-7335e01dfa50",
   "metadata": {},
   "source": [
    "# Artificial Neural Networks - Forward Propagation"
   ]
  },
  {
   "cell_type": "markdown",
   "id": "6b323a6b-d158-42d9-89b9-c04b4e778730",
   "metadata": {},
   "source": [
    "## Objective of this notebook\n",
    "\n",
    "The objective of this notebok is to initialise a network, calculate the weighted sum at each of the nodes and compute the node activation."
   ]
  },
  {
   "cell_type": "code",
   "execution_count": 1,
   "id": "157427ed-18eb-4d5e-8283-930af2521d40",
   "metadata": {},
   "outputs": [],
   "source": [
    "# Install all the neccessary libraries\n",
    "\n",
    "import numpy as np"
   ]
  },
  {
   "cell_type": "code",
   "execution_count": 5,
   "id": "ec9dc85e-cf3b-4196-a2d0-b1210e9ae865",
   "metadata": {},
   "outputs": [
    {
     "name": "stdout",
     "output_type": "stream",
     "text": [
      "[0.31 0.01 0.09 0.76 0.41 0.75]\n",
      "[0.75 0.07 0.48]\n"
     ]
    }
   ],
   "source": [
    "# Randomly initialise the weights and the biases\n",
    "\n",
    "weights = np.around(np.random.uniform(size=6), decimals=2)\n",
    "biases = np.around(np.random.uniform(size=3), decimals=2)\n",
    "print(weights)\n",
    "print(biases)"
   ]
  },
  {
   "cell_type": "code",
   "execution_count": 6,
   "id": "b8524626-26fd-4c78-b763-2d3877f4533c",
   "metadata": {},
   "outputs": [
    {
     "name": "stdout",
     "output_type": "stream",
     "text": [
      "x1 is 0.5 and x2 is 0.85\n"
     ]
    }
   ],
   "source": [
    "# Compute the output for given input x1 and X2\n",
    "x_1 = 0.5\n",
    "x_2 = 0.85\n",
    "\n",
    "print('x1 is {} and x2 is {}'.format(x_1, x_2))"
   ]
  },
  {
   "cell_type": "code",
   "execution_count": 9,
   "id": "dbf02c04-af77-4f4d-bbd4-a714bebffed7",
   "metadata": {},
   "outputs": [
    {
     "name": "stdout",
     "output_type": "stream",
     "text": [
      "The weighted sum of the first node in the hidden layer is 0.9135\n"
     ]
    }
   ],
   "source": [
    "# Compute the weighted sum of inputs z1,1\n",
    "\n",
    "z_11= x_1 * weights[0] + x_2 * weights[1] + biases[0]\n",
    "\n",
    "print('The weighted sum of the first node in the hidden layer is {}'.format(z_11))"
   ]
  },
  {
   "cell_type": "code",
   "execution_count": 12,
   "id": "0a8ac901-f436-4cff-ae40-0007cb6698ac",
   "metadata": {},
   "outputs": [
    {
     "name": "stdout",
     "output_type": "stream",
     "text": [
      "The weighted sum of the second node in the hidden layer is 0.7610000000000001\n"
     ]
    }
   ],
   "source": [
    "# Compute the weighted sum of the inputs z1,2\n",
    "\n",
    "z_12 = x_1 * weights[2] + x_2 * weights[3] + biases[1]\n",
    "\n",
    "print('The weighted sum of the second node in the hidden layer is {}'.format(z_12))"
   ]
  },
  {
   "cell_type": "code",
   "execution_count": 17,
   "id": "ee9d53ee-15ce-4593-a91f-898c50f19b85",
   "metadata": {},
   "outputs": [
    {
     "name": "stdout",
     "output_type": "stream",
     "text": [
      "The activation of the first node in the hidden layer is 0.7137\n",
      "The activation of the second node in the hidden layer is 0.6816\n"
     ]
    }
   ],
   "source": [
    "# Compute the activation node using the sigmoid function\n",
    "\n",
    "a_11 = 1.0 / (1.0 + np.exp(-z_11))\n",
    "a_12 = 1.0 / (1.0 + np.exp(-z_12))\n",
    "\n",
    "print('The activation of the first node in the hidden layer is {}'.format(np.around(a_11, decimals= 4)))\n",
    "print('The activation of the second node in the hidden layer is {}'.format(np.around(a_12, decimals= 4)))"
   ]
  },
  {
   "cell_type": "code",
   "execution_count": 20,
   "id": "c2a38ff3-3c50-4fd6-b44b-d0c3f48626f9",
   "metadata": {},
   "outputs": [
    {
     "name": "stdout",
     "output_type": "stream",
     "text": [
      "The weighted sum for the input nodes in the output layer is 1.2838\n"
     ]
    }
   ],
   "source": [
    "# Compute the weighted sum of the inputs at teh node to the output layer\n",
    "z_2 = a_11 * weights[4] + a_12 * weights[5] + biases[2]\n",
    "\n",
    "print('The weighted sum for the input nodes in the output layer is {}'.format(np.around(z_2, decimals=4)))"
   ]
  },
  {
   "cell_type": "code",
   "execution_count": 21,
   "id": "2105e1ce-ac41-4eb5-8ec9-844428cc2feb",
   "metadata": {},
   "outputs": [
    {
     "name": "stdout",
     "output_type": "stream",
     "text": [
      "The output of the network for x1 = 0.5 and x_2 = 0.85 is 1.277\n"
     ]
    }
   ],
   "source": [
    "# Compute the output of the network\n",
    "\n",
    "a_2 = 1.0 / 1.0 + np.exp(-z_2)\n",
    "\n",
    "print('The output of the network for x1 = 0.5 and x_2 = 0.85 is {}'.format(np.around(a_2, decimals=4)))"
   ]
  },
  {
   "cell_type": "markdown",
   "id": "2e9f9687-6fe9-44f9-af1b-7da19206beac",
   "metadata": {},
   "source": [
    "### Optimizing the code for a more complex neural network.\n",
    "\n",
    "The code above is primarily to give an understanding the computation for neaural networks. This process is however very inefficieant. The optimal approach is to write syntax that allows for n number of inputs and m number of nodes. This solution will also cover more than one output layer."
   ]
  },
  {
   "cell_type": "code",
   "execution_count": null,
   "id": "e6920312-6734-4a38-a0fc-e46c2575180e",
   "metadata": {},
   "outputs": [],
   "source": [
    "# Formally define the structure of the network\n",
    "\n",
    "n = 2 #The number of the inputs\n",
    "num_hidden_layers = 2 # The number of hidden layers\n",
    "m= [2, 2] # The number of nodes in each hidden layer\n",
    "num_nodes_output = 1 # The  number of nodes in the output layer"
   ]
  },
