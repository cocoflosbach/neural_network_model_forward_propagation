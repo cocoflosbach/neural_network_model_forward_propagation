{
 "cells": [
  {
   "cell_type": "markdown",
   "id": "6c9162b0-e1bf-4356-8082-7335e01dfa50",
   "metadata": {},
   "source": [
    "# Artificial Neural Networks - Forward Propagation"
   ]
  },
  {
   "cell_type": "markdown",
   "id": "6b323a6b-d158-42d9-89b9-c04b4e778730",
   "metadata": {},
   "source": [
    "## Objective of this notebook\n",
    "\n",
    "The objective of this notebok is to initialise a network, calculate the weighted sum at each of the nodes and compute the node activation."
   ]
  },
  {
   "cell_type": "code",
   "execution_count": 1,
   "id": "157427ed-18eb-4d5e-8283-930af2521d40",
   "metadata": {},
   "outputs": [],
   "source": [
    "# Install all the neccessary libraries\n",
    "\n",
    "import numpy as np"
   ]
  },
  {
   "cell_type": "code",
   "execution_count": 5,
   "id": "ec9dc85e-cf3b-4196-a2d0-b1210e9ae865",
   "metadata": {},
   "outputs": [
    {
     "name": "stdout",
     "output_type": "stream",
     "text": [
      "[0.31 0.01 0.09 0.76 0.41 0.75]\n",
      "[0.75 0.07 0.48]\n"
     ]
    }
   ],
   "source": [
    "# Randomly initialise the weights and the biases\n",
    "\n",
    "weights = np.around(np.random.uniform(size=6), decimals=2)\n",
    "biases = np.around(np.random.uniform(size=3), decimals=2)\n",
    "print(weights)\n",
    "print(biases)"
   ]
  },
  {
   "cell_type": "code",
   "execution_count": 6,
   "id": "b8524626-26fd-4c78-b763-2d3877f4533c",
   "metadata": {},
   "outputs": [
    {
     "name": "stdout",
     "output_type": "stream",
     "text": [
      "x1 is 0.5 and x2 is 0.85\n"
     ]
    }
   ],
   "source": [
    "# Compute the output for given input x1 and X2\n",
    "x_1 = 0.5\n",
    "x_2 = 0.85\n",
    "\n",
    "print('x1 is {} and x2 is {}'.format(x_1, x_2))"
   ]
  },
