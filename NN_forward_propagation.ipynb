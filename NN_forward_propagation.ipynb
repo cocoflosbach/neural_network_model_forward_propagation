{
 "cells": [
  {
   "cell_type": "markdown",
   "id": "6c9162b0-e1bf-4356-8082-7335e01dfa50",
   "metadata": {},
   "source": [
    "# Artificial Neural Networks - Forward Propagation"
   ]
  },
  {
   "cell_type": "markdown",
   "id": "6b323a6b-d158-42d9-89b9-c04b4e778730",
   "metadata": {},
   "source": [
    "## Objective of this notebook\n",
    "\n",
    "The objective of this notebok is to initialise a network, calculate the weighted sum at each of the nodes and compute the node activation."
   ]
  },
